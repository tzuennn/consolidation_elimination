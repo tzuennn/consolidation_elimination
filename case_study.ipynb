{
 "cells": [
  {
   "cell_type": "markdown",
   "id": "8e039d59",
   "metadata": {},
   "source": [
    "Automating Internal Transaction Removal\n",
    "\n",
    "**Simplified Problem:** We have financial figures (Revenue, Expense) from two related entities, A and B. A sold something to B internally for 50,000. When combining their figures, this internal transaction needs to be removed to get a true picture of the group's performance with the outside world.\n",
    "\n",
    "**Goal:** Demonstrate a simple, automated way using Python (pandas) to perform this removal, highlighting the logic.\n",
    "\n",
    "**Scenario:**\n",
    "*   Entity A: Has external revenue/expense, plus 50,000 revenue from selling to B.\n",
    "*   Entity B: Has external revenue/expense, plus 50,000 expense from buying from A."
   ]
  },
  {
   "cell_type": "markdown",
   "id": "6705e542",
   "metadata": {},
   "source": [
    "## 1. Input Data Setup"
   ]
  },
  {
   "cell_type": "code",
   "execution_count": 11,
   "id": "1e7c7034",
   "metadata": {},
   "outputs": [
    {
     "name": "stdout",
     "output_type": "stream",
     "text": [
      "--- Input Data A ---\n",
      "                       Amount\n",
      "Account                      \n",
      "Revenue_External       550000\n",
      "Revenue_Internal_to_B   50000\n",
      "Expense_External      -400000\n",
      "\n",
      "--- Input Data B ---\n",
      "                         Amount\n",
      "Account                        \n",
      "Revenue_External         400000\n",
      "Expense_External        -150000\n",
      "Expense_Internal_from_A  -50000\n"
     ]
    }
   ],
   "source": [
    "import pandas as pd\n",
    "\n",
    "pd.options.display.float_format = '{:,.0f}'.format\n",
    "\n",
    "# Data for Entity A\n",
    "data_a = {\n",
    "    # Clear labels distinguishing internal vs external\n",
    "    'Account': ['Revenue_External', 'Revenue_Internal_to_B', 'Expense_External'],\n",
    "    'Amount': [550000, 50000, -400000] # Revenue +, Expense -\n",
    "}\n",
    "entity_a_df = pd.DataFrame(data_a).set_index('Account')\n",
    "\n",
    "# Data for Entity B\n",
    "data_b = {\n",
    "    'Account': ['Revenue_External', 'Expense_External', 'Expense_Internal_from_A'],\n",
    "    'Amount': [400000, -150000, -50000] # Revenue +, Expense -\n",
    "}\n",
    "entity_b_df = pd.DataFrame(data_b).set_index('Account')\n",
    "\n",
    "print(\"--- Input Data A ---\")\n",
    "print(entity_a_df)\n",
    "print(\"\\n--- Input Data B ---\")\n",
    "print(entity_b_df)"
   ]
  },
  {
   "cell_type": "markdown",
   "id": "cad217a7",
   "metadata": {},
   "source": [
    "## 2. Manual / Naive Combination (The Problem)\n",
    "\n",
    "Simply adding the figures together without removing the internal transaction gives incorrect totals."
   ]
  },
  {
   "cell_type": "code",
   "execution_count": 23,
   "id": "585a8cb4",
   "metadata": {},
   "outputs": [
    {
     "name": "stdout",
     "output_type": "stream",
     "text": [
      "                               A        B\n",
      "Account                                  \n",
      "Revenue_External         550,000  400,000\n",
      "Revenue_Internal_to_B     50,000        0\n",
      "Expense_External        -400,000 -150,000\n",
      "Expense_Internal_from_A        0  -50,000\n",
      "--- Combined Figures (Naive Sum) ---\n",
      "                               A        B  Naive_Sum\n",
      "Account                                             \n",
      "Revenue_External         550,000  400,000    950,000\n",
      "Revenue_Internal_to_B     50,000        0     50,000\n",
      "Expense_External        -400,000 -150,000   -550,000\n",
      "Expense_Internal_from_A        0  -50,000    -50,000\n",
      "\n",
      "--- Naive Calculation ---\n",
      "Naive Total Revenue: 1,000,000\n",
      "Naive Total Expense: -600,000\n",
      "Naive Profit:        400,000\n",
      "Error: Internal 50,000 is double-counted (once as Revenue, once as Expense).\n"
     ]
    }
   ],
   "source": [
    "# Combine dataframes based on Account names\n",
    "combined_df = pd.concat([\n",
    "    entity_a_df.rename(columns={'Amount': 'A'}),\n",
    "    entity_b_df.rename(columns={'Amount': 'B'})\n",
    "], axis=1).fillna(0)\n",
    "\n",
    "print(combined_df)\n",
    "\n",
    "# Calculate the simple sum\n",
    "combined_df['Naive_Sum'] = combined_df['A'] + combined_df['B']\n",
    "\n",
    "print(\"--- Combined Figures (Naive Sum) ---\")\n",
    "print(combined_df)\n",
    "\n",
    "# Calculate Naive Profit\n",
    "def calculate_profit(df, column_name):\n",
    "    revenue = df.loc[df.index.str.contains('Revenue'), column_name].sum()\n",
    "    expense = df.loc[df.index.str.contains('Expense'), column_name].sum()\n",
    "    profit = revenue + expense # expense is negative\n",
    "    return revenue, expense, profit\n",
    "\n",
    "naive_revenue, naive_expense, naive_profit = calculate_profit(combined_df, 'Naive_Sum')\n",
    "\n",
    "print(\"\\n--- Naive Calculation ---\")\n",
    "print(f\"Naive Total Revenue: {naive_revenue:,.0f}\")\n",
    "print(f\"Naive Total Expense: {naive_expense:,.0f}\")\n",
    "print(f\"Naive Profit:        {naive_profit:,.0f}\")\n",
    "print(\"Error: Internal 50,000 is double-counted (once as Revenue, once as Expense).\")"
   ]
  },
  {
   "cell_type": "markdown",
   "id": "3a853123",
   "metadata": {},
   "source": [
    "## 3. Automated Elimination Logic\n",
    "\n",
    "We define the internal transaction(s) and create rules for generating adjustments. This mimics a rules engine approach."
   ]
  },
  {
   "cell_type": "code",
   "execution_count": 15,
   "id": "6e2e4042",
   "metadata": {},
   "outputs": [
    {
     "name": "stdout",
     "output_type": "stream",
     "text": [
      "--- Automated Adjustments Generated ---\n",
      "                         Adjustment\n",
      "Account                            \n",
      "Expense_Internal_from_A       50000\n",
      "Revenue_Internal_to_B        -50000\n",
      "\n",
      "Sum of Adjustments: 0 (Should be 0 for Rev/Exp elims)\n"
     ]
    }
   ],
   "source": [
    "# 1. Define the known internal transactions\n",
    "# In a real system, this would be from a database or input file\n",
    "internal_transactions_data = [\n",
    "    {'ID': 'TXN123', 'Type': 'Sale', 'From': 'A', 'To': 'B', 'Amount': 50000}\n",
    "    # Add more transactions here if needed\n",
    "]\n",
    "\n",
    "# 2. Define the rules for creating adjustments based on transaction type\n",
    "# This is the core logic engine.\n",
    "def get_adjustment_rules(transaction):\n",
    "    txn_type = transaction['Type']\n",
    "    from_entity = transaction['From']\n",
    "    to_entity = transaction['To']\n",
    "    amount = transaction['Amount']\n",
    "    adjustments = []\n",
    "\n",
    "    if txn_type == 'Sale':\n",
    "        # Rule 1: Reduce the internal revenue of the seller ('From')\n",
    "        revenue_account_label = f\"Revenue_Internal_to_{to_entity}\"\n",
    "        adjustments.append({'Account': revenue_account_label, 'Adjustment': -amount, 'Reason': f\"Remove {txn_type} Revenue\"})\n",
    "\n",
    "        # Rule 2: Cancel the internal expense of the buyer ('To')\n",
    "        # (Expense is negative, so adding the amount cancels it)\n",
    "        expense_account_label = f\"Expense_Internal_from_{from_entity}\"\n",
    "        adjustments.append({'Account': expense_account_label, 'Adjustment': amount, 'Reason': f\"Remove {txn_type} Expense\"})\n",
    "\n",
    "    # --- Add rules for other transaction types ('Loan', 'Service', etc.) here --- \n",
    "\n",
    "    return adjustments\n",
    "\n",
    "# 3. Generate all adjustments by applying rules to transactions\n",
    "all_adjustments_list = []\n",
    "for txn in internal_transactions_data:\n",
    "    txn_adjustments = get_adjustment_rules(txn)\n",
    "    all_adjustments_list.extend(txn_adjustments)\n",
    "\n",
    "# 4. Aggregate adjustments by account (in case multiple adjustments affect the same account)\n",
    "adjustments_df = pd.DataFrame(all_adjustments_list)\n",
    "aggregated_adjustments = adjustments_df.groupby('Account')['Adjustment'].sum().reset_index()\n",
    "aggregated_adjustments = aggregated_adjustments.set_index('Account')\n",
    "\n",
    "print(\"--- Automated Adjustments Generated ---\")\n",
    "print(aggregated_adjustments)\n",
    "\n",
    "# Sanity check: Revenue/Expense eliminations should sum to zero\n",
    "print(f\"\\nSum of Adjustments: {aggregated_adjustments['Adjustment'].sum():,.0f} (Should be 0 for Rev/Exp elims)\")"
   ]
  },
  {
   "cell_type": "markdown",
   "id": "1844a3dc",
   "metadata": {},
   "source": [
    "## 4. Applying Adjustments for Final Correct Result"
   ]
  },
  {
   "cell_type": "code",
   "execution_count": 17,
   "id": "11131a55",
   "metadata": {},
   "outputs": [
    {
     "name": "stdout",
     "output_type": "stream",
     "text": [
      "--- Combined Figures After Adjustments ---\n",
      "                         Naive_Sum  Adjustment  Final_Amount\n",
      "Account                                                     \n",
      "Revenue_External           950,000           0       950,000\n",
      "Revenue_Internal_to_B       50,000     -50,000             0\n",
      "Expense_External          -550,000           0      -550,000\n",
      "Expense_Internal_from_A    -50,000      50,000             0\n",
      "\n",
      "--- Final Calculation ---\n",
      "Final Total Revenue: 950,000\n",
      "Final Total Expense: -550,000\n",
      "Final Profit:        400,000\n",
      "\n",
      "Check: Final Amounts for purely internal accounts:\n",
      "                         Final_Amount\n",
      "Account                              \n",
      "Revenue_Internal_to_B               0\n",
      "Expense_Internal_from_A             0\n"
     ]
    }
   ],
   "source": [
    "# Join the generated adjustments to the combined figures\n",
    "final_df = combined_df.join(aggregated_adjustments, how='left').fillna(0)\n",
    "\n",
    "# Apply the adjustment: Final Amount = Naive Sum + Adjustment\n",
    "final_df['Final_Amount'] = final_df['Naive_Sum'] + final_df['Adjustment']\n",
    "\n",
    "print(\"--- Combined Figures After Adjustments ---\")\n",
    "print(final_df[['Naive_Sum', 'Adjustment', 'Final_Amount']]) # Show the calculation\n",
    "\n",
    "# Calculate Final Correct Profit\n",
    "final_revenue, final_expense, final_profit = calculate_profit(final_df, 'Final_Amount')\n",
    "\n",
    "print(\"\\n--- Final Calculation ---\")\n",
    "print(f\"Final Total Revenue: {final_revenue:,.0f}\")\n",
    "print(f\"Final Total Expense: {final_expense:,.0f}\")\n",
    "print(f\"Final Profit:        {final_profit:,.0f}\")\n",
    "\n",
    "# Verify internal accounts are now zero\n",
    "internal_accounts_check = [\n",
    "    'Revenue_Internal_to_B', 'Expense_Internal_from_A'\n",
    "]\n",
    "print(\"\\nCheck: Final Amounts for purely internal accounts:\")\n",
    "print(final_df.loc[final_df.index.isin(internal_accounts_check), ['Final_Amount']])"
   ]
  },
  {
   "cell_type": "markdown",
   "id": "4dfd6d11",
   "metadata": {},
   "source": [
    "## 5. SWE Perspective & Benefits\n",
    "\n",
    "*   **Modularity:** The logic for generating adjustments (`get_adjustment_rules` function) is separate from the data loading and final calculation. This makes the code easier to manage and test.\n",
    "*   **Scalability:** Adding more entities just means adding their DataFrames to the `pd.concat` step. Adding new *types* of internal transactions means adding new `if` blocks or rules to the `get_adjustment_rules` function.\n",
    "*   **Data Driven:** The process is driven by the `internal_transactions_data` list. In a real system, this data would likely come from a database, making the process highly automated.\n",
    "*   **Consistency:** The same rules are applied every time, reducing human error compared to manual spreadsheet adjustments.\n",
    "*   **Readability:** Using clear account labels and rule descriptions helps understand the process."
   ]
  }
 ],
 "metadata": {
  "kernelspec": {
   "display_name": "Python [conda env:base] *",
   "language": "python",
   "name": "conda-base-py"
  },
  "language_info": {
   "codemirror_mode": {
    "name": "ipython",
    "version": 3
   },
   "file_extension": ".py",
   "mimetype": "text/x-python",
   "name": "python",
   "nbconvert_exporter": "python",
   "pygments_lexer": "ipython3",
   "version": "3.12.7"
  }
 },
 "nbformat": 4,
 "nbformat_minor": 5
}
